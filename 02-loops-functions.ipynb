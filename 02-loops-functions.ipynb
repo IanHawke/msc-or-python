{
 "cells": [
  {
   "cell_type": "markdown",
   "metadata": {},
   "source": [
    "# Functions"
   ]
  },
  {
   "cell_type": "markdown",
   "metadata": {},
   "source": [
    "Storing individual Python commands for re-use is one thing. Creating a *function* that can be repeatedly applied to different input data is quite another, and of huge importance in coding.\n",
    "\n",
    "In VBA there are two related concepts: subroutines and functions. Subroutines perform actions, functions return results (given inputs). In Python there is no distinction: any function can both return results and perform actions.\n",
    "\n",
    "In VBA there is a standard layout. For subroutines we have\n",
    "\n",
    "```VB.NET\n",
    "Sub name()\n",
    "'\n",
    "' Comments\n",
    "'\n",
    "    Code\n",
    "End Sub\n",
    "```\n",
    "\n",
    "For functions we have\n",
    "\n",
    "```VB.NET\n",
    "Function name(arguments)\n",
    "'\n",
    "' Comments\n",
    "'\n",
    "    name = ...\n",
    "End Function\n",
    "```\n",
    "\n",
    "A similar structure holds in Python. Here we have\n",
    "\n",
    "```python\n",
    "def name(arguments):\n",
    "    \"\"\"\n",
    "    Comments\n",
    "    \"\"\"\n",
    "    return value\n",
    "```\n",
    "\n",
    "The `def` keyword says that what follows is a function. Again, the name of the function follows the same rules and conventions as variables and files. The colon `:` at the end of the first line is essential: everything that follows that is indented will be the code to be executed when the function is called. The indentation is also essential. As soon as the indentation stops, the function stops (like `End Function` in VBA)."
   ]
  },
  {
   "cell_type": "markdown",
   "metadata": {},
   "source": [
    "Here is a simple example, that you can type directly into the console or into a file:"
   ]
  },
  {
   "cell_type": "code",
   "execution_count": 1,
   "metadata": {},
   "outputs": [
    {
     "data": {
      "text/plain": [
       "3"
      ]
     },
     "execution_count": 1,
     "metadata": {},
     "output_type": "execute_result"
    }
   ],
   "source": [
    "def add(x, y):\n",
    "    \"\"\"\n",
    "    Add two numbers\n",
    "    \n",
    "    Parameters\n",
    "    ----------\n",
    "    \n",
    "    x : float\n",
    "        First input\n",
    "    y : float\n",
    "        Second input\n",
    "    \n",
    "    Returns\n",
    "    -------\n",
    "    \n",
    "    x + y : float\n",
    "    \"\"\"\n",
    "    return x + y\n",
    "\n",
    "add(1, 2)"
   ]
  },
  {
   "cell_type": "markdown",
   "metadata": {},
   "source": [
    "We see that the line `add(1, 2)` is *outside the function* and so is executed. We can also call the function repeatedly:"
   ]
  },
  {
   "cell_type": "code",
   "execution_count": 2,
   "metadata": {},
   "outputs": [
    {
     "name": "stdout",
     "output_type": "stream",
     "text": [
      "7\n",
      "16.6\n"
     ]
    }
   ],
   "source": [
    "print(add(3, 4))\n",
    "print(add(10.61, 5.99))"
   ]
  },
  {
   "cell_type": "markdown",
   "metadata": {},
   "source": [
    "The lengthy comment at the start of the function is very useful to remind yourself later what the function should do. You can see this information by typing"
   ]
  },
  {
   "cell_type": "code",
   "execution_count": 3,
   "metadata": {},
   "outputs": [
    {
     "name": "stdout",
     "output_type": "stream",
     "text": [
      "Help on function add in module __main__:\n",
      "\n",
      "add(x, y)\n",
      "    Add two numbers\n",
      "    \n",
      "    Parameters\n",
      "    ----------\n",
      "    \n",
      "    x : float\n",
      "        First input\n",
      "    y : float\n",
      "        Second input\n",
      "    \n",
      "    Returns\n",
      "    -------\n",
      "    \n",
      "    x + y : float\n",
      "\n"
     ]
    }
   ],
   "source": [
    "help(add)"
   ]
  },
  {
   "cell_type": "markdown",
   "metadata": {},
   "source": [
    "You can also view this in spyder by typing `add` in the `Object` window of the `Help` tab in the top right."
   ]
  },
  {
   "cell_type": "markdown",
   "metadata": {},
   "source": [
    "We can save the function to a file and re-use the function by `import`ing the file. Create a new file in the spyder editor containing\n",
    "\n",
    "```python\n",
    "def add(x, y):\n",
    "    \"\"\"\n",
    "    Add two numbers\n",
    "    \n",
    "    Parameters\n",
    "    ----------\n",
    "    \n",
    "    x : float\n",
    "        First input\n",
    "    y : float\n",
    "        Second input\n",
    "    \n",
    "    Returns\n",
    "    -------\n",
    "    \n",
    "    x + y : float\n",
    "    \"\"\"\n",
    "    return x + y\n",
    "```\n",
    "\n",
    "and save it as `script2.py`. Then in the console check that it works as expected:"
   ]
  },
  {
   "cell_type": "code",
   "execution_count": 4,
   "metadata": {},
   "outputs": [
    {
     "data": {
      "text/plain": [
       "3"
      ]
     },
     "execution_count": 4,
     "metadata": {},
     "output_type": "execute_result"
    }
   ],
   "source": [
    "import script2\n",
    "script2.add(1, 2)"
   ]
  },
  {
   "cell_type": "markdown",
   "metadata": {},
   "source": [
    "# Loops"
   ]
  },
  {
   "cell_type": "markdown",
   "metadata": {},
   "source": [
    "We will often want to run the same code many times on similar input. Let us suppose we want to add $n$ to $3$, where $n$ is every number between $1$ and $5$. We could do: "
   ]
  },
  {
   "cell_type": "code",
   "execution_count": 5,
   "metadata": {},
   "outputs": [
    {
     "name": "stdout",
     "output_type": "stream",
     "text": [
      "4\n",
      "5\n",
      "6\n",
      "7\n",
      "8\n"
     ]
    }
   ],
   "source": [
    "print(add(3, 1))\n",
    "print(add(3, 2))\n",
    "print(add(3, 3))\n",
    "print(add(3, 4))\n",
    "print(add(3, 5))"
   ]
  },
  {
   "cell_type": "markdown",
   "metadata": {},
   "source": [
    "This is tedious and there's a high chance of errors.\n",
    "\n",
    "In VBA you can define a *loop* that repeats commands as, for example\n",
    "\n",
    "```VB.NET\n",
    "    For n = 1 To 5\n",
    "        Z = 3 + n\n",
    "    Next n\n",
    "```\n",
    "\n",
    "In Python there is also a `for` loop:"
   ]
  },
  {
   "cell_type": "code",
   "execution_count": 8,
   "metadata": {},
   "outputs": [
    {
     "name": "stdout",
     "output_type": "stream",
     "text": [
      "4\n",
      "5\n",
      "6\n",
      "7\n",
      "8\n",
      "Loop has ended\n"
     ]
    }
   ],
   "source": [
    "for n in 1, 2, 3, 4, 5:\n",
    "    print(add(3, n))\n",
    "print(\"Loop has ended\")"
   ]
  },
  {
   "cell_type": "markdown",
   "metadata": {},
   "source": [
    "The syntax has similarities to the syntax for functions. The line defining the loop starts with `for`, specifies the values that `n` takes, and ends with a colon. The code that is executed inside the loop is indented.\n",
    "\n",
    "As a short-hand for integer loops, we can use the `range` function:"
   ]
  },
  {
   "cell_type": "code",
   "execution_count": 9,
   "metadata": {},
   "outputs": [
    {
     "name": "stdout",
     "output_type": "stream",
     "text": [
      "n = 1\n",
      "n = 2\n",
      "n = 3\n",
      "n = 4\n",
      "n = 5\n",
      "m = 0\n",
      "m = 1\n",
      "m = 2\n",
      "k = 2\n",
      "k = 4\n",
      "k = 6\n"
     ]
    }
   ],
   "source": [
    "for n in range(1, 6):\n",
    "    print(\"n =\", n)\n",
    "for m in range(3):\n",
    "    print(\"m =\", m)\n",
    "for k in range(2, 7, 2):\n",
    "    print(\"k =\", k)"
   ]
  },
  {
   "cell_type": "markdown",
   "metadata": {},
   "source": [
    "We see that \n",
    "\n",
    "* if two numbers are given, `range` returns all integers from the first number up to *but not including* the second in steps of $1$;\n",
    "* if one number is given, `range` starts from $0$;\n",
    "* if three numbers are given, the third is the step."
   ]
  },
  {
   "cell_type": "markdown",
   "metadata": {},
   "source": [
    "In fact Python will iterate over *any* collection of objects: they do not have to be integers:"
   ]
  },
  {
   "cell_type": "code",
   "execution_count": 10,
   "metadata": {},
   "outputs": [
    {
     "name": "stdout",
     "output_type": "stream",
     "text": [
      "thing is  1\n",
      "thing is  2.5\n",
      "thing is  hello\n",
      "thing is  <function add at 0x111570e18>\n"
     ]
    }
   ],
   "source": [
    "for thing in 1, 2.5, \"hello\", add:\n",
    "    print(\"thing is \", thing)"
   ]
  },
  {
   "cell_type": "markdown",
   "metadata": {},
   "source": [
    "This is very often used in Python code: if you have some way of collecting things together, Python will happily iterate over them all."
   ]
  },
  {
   "cell_type": "markdown",
   "metadata": {},
   "source": [
    "# Containers, sequences, lists"
   ]
  },
  {
   "cell_type": "markdown",
   "metadata": {},
   "source": [
    "So what are the Python ways of collecting things together? In VBA, there are arrays:\n",
    "\n",
    "```VB.NET\n",
    "    Dim A(2) AS DOUBLE\n",
    "```\n",
    "\n",
    "defines an array, or vector, of length $3$, starting from $0$, of double precision floating point numbers.\n",
    "\n",
    "```VB.NET\n",
    "    Dim B() AS DOUBLE\n",
    "```\n",
    "\n",
    "defines an array, or vector, of *arbitrary* length, starting from $0$, of double precision floating point numbers. You can also start arrays from values other than $0$. The individual entries are accessed and modified using, for example, `A(0)`.\n",
    "\n",
    "In Python there are many ways of collecting objects together. The closest to VBA are *tuples* and *lists*."
   ]
  },
  {
   "cell_type": "markdown",
   "metadata": {},
   "source": [
    "## Tuples"
   ]
  },
  {
   "cell_type": "markdown",
   "metadata": {},
   "source": [
    "A tuple is a sequence with fixed size, whose entries cannot be modified:"
   ]
  },
  {
   "cell_type": "code",
   "execution_count": 11,
   "metadata": {},
   "outputs": [
    {
     "name": "stdout",
     "output_type": "stream",
     "text": [
      "0\n",
      "3\n"
     ]
    }
   ],
   "source": [
    "t1 = (0, 1, 2, 3, 4, 5)\n",
    "print(t1[0])\n",
    "print(t1[3])"
   ]
  },
  {
   "cell_type": "markdown",
   "metadata": {},
   "source": []
  }
 ],
 "metadata": {
  "kernelspec": {
   "display_name": "Python 3",
   "language": "python",
   "name": "python3"
  },
  "language_info": {
   "codemirror_mode": {
    "name": "ipython",
    "version": 3
   },
   "file_extension": ".py",
   "mimetype": "text/x-python",
   "name": "python",
   "nbconvert_exporter": "python",
   "pygments_lexer": "ipython3",
   "version": "3.6.1"
  },
  "nbconvert": {
   "title": "Loops and functions"
  }
 },
 "nbformat": 4,
 "nbformat_minor": 2
}
