{
 "cells": [
  {
   "cell_type": "markdown",
   "metadata": {},
   "source": [
    "# Bubble sort"
   ]
  },
  {
   "cell_type": "markdown",
   "metadata": {},
   "source": [
    "In VBA the [bubble sort](https://en.wikipedia.org/wiki/Bubble_sort) algorithm can be [written as](http://bettersolutions.com/vba/arrays/sorting-bubble-sort.htm):\n",
    "\n",
    "```VB.NET\n",
    "Sub BubbleSort(list()) \n",
    "'   Sorts an array using bubble sort algorithm\n",
    "    Dim First As Integer, Last As Long \n",
    "    Dim i As Long, j As Long \n",
    "    Dim Temp As Long \n",
    "    \n",
    "    First = LBound(list) \n",
    "    Last = UBound(list) \n",
    "    For i = First To Last - 1 \n",
    "        For j = i + 1 To Last \n",
    "            If list(i) > list(j) Then \n",
    "                Temp = list(j) \n",
    "                list(j) = list(i) \n",
    "                list(i) = Temp \n",
    "            End If \n",
    "        Next j \n",
    "    Next i \n",
    "End Sub \n",
    "```\n",
    "\n",
    "We can do a direct translation of this into Python:"
   ]
  },
  {
   "cell_type": "code",
   "execution_count": 1,
   "metadata": {
    "collapsed": true
   },
   "outputs": [],
   "source": [
    "def bubblesort(unsorted):\n",
    "    \"\"\"\n",
    "    Sorts an array using bubble sort algorithm\n",
    "    \n",
    "    Paramters\n",
    "    ---------\n",
    "    \n",
    "    unsorted : list\n",
    "        The unsorted list\n",
    "    \n",
    "    Returns\n",
    "    \n",
    "    sorted : list\n",
    "        The sorted list (in place)\n",
    "    \"\"\"\n",
    "    \n",
    "    last = len(unsorted)\n",
    "    # All Python lists start from 0\n",
    "    for i in range(last):\n",
    "        for j in range(i+1, last):\n",
    "            if unsorted[i] > unsorted[j]:\n",
    "                temp = unsorted[j]\n",
    "                unsorted[j] = unsorted[i]\n",
    "                unsorted[i] = temp\n",
    "    return unsorted"
   ]
  },
  {
   "cell_type": "code",
   "execution_count": 2,
   "metadata": {},
   "outputs": [
    {
     "name": "stdout",
     "output_type": "stream",
     "text": [
      "[0, 1, 2, 3, 4, 5, 6]\n"
     ]
    }
   ],
   "source": [
    "unsorted = [2, 4, 6, 0, 1, 3, 5]\n",
    "print(bubblesort(unsorted))"
   ]
  },
  {
   "cell_type": "markdown",
   "metadata": {},
   "source": [
    "By comparing the two codes we can see the essential changes needed:\n",
    "\n",
    "* Python does not declare the type of the variables; the `DIM` statements are not needed.\n",
    "* There is nothing special about lists or arrays as variables when passed as arguments.\n",
    "* To define functions the keyword is `def` instead of `Sub`.\n",
    "* To define the start of a block (the body of a function, or a loop, or a conditional) a colon `:` is used.\n",
    "* To define the block itself, indentation is used. The block ends when the code indentation ends.\n",
    "* Comments are either enclosed in quotes `\"` as for the docstring, or using `#`.\n",
    "* The return value(s) from a function use the keyword `return`, not the name of the function.\n",
    "* Accessing arrays uses square brackets, not round.\n",
    "* The function `range` produces a range of integers, usually used to loop over.\n",
    "\n",
    "Note: there are in-built Python functions to sort lists which should be used in general:"
   ]
  },
  {
   "cell_type": "code",
   "execution_count": 3,
   "metadata": {},
   "outputs": [
    {
     "name": "stdout",
     "output_type": "stream",
     "text": [
      "[0, 1, 2, 3, 4, 5, 6]\n"
     ]
    }
   ],
   "source": [
    "unsorted = [2, 4, 6, 0, 1, 3, 5]\n",
    "print(sorted(unsorted))"
   ]
  },
  {
   "cell_type": "markdown",
   "metadata": {},
   "source": [
    "Note: there is a \"more Pythonic\" way of writing the bubble sort function, taking advantage of the feature that Python can assign to multiple things at once. Compare the internals of the loop:"
   ]
  },
  {
   "cell_type": "code",
   "execution_count": 4,
   "metadata": {
    "collapsed": true
   },
   "outputs": [],
   "source": [
    "def bubblesort(unsorted):\n",
    "    \"\"\"\n",
    "    Sorts an array using bubble sort algorithm\n",
    "    \n",
    "    Paramters\n",
    "    ---------\n",
    "    \n",
    "    unsorted : list\n",
    "        The unsorted list\n",
    "    \n",
    "    Returns\n",
    "    \n",
    "    sorted : list\n",
    "        The sorted list (in place)\n",
    "    \"\"\"\n",
    "    \n",
    "    last = len(unsorted)\n",
    "    # All Python lists start from 0\n",
    "    for i in range(last):\n",
    "        for j in range(i+1, last):\n",
    "            if unsorted[i] > unsorted[j]:\n",
    "                unsorted[j], unsorted[i] = unsorted[i], unsorted[j]\n",
    "    return unsorted"
   ]
  },
  {
   "cell_type": "code",
   "execution_count": 5,
   "metadata": {},
   "outputs": [
    {
     "name": "stdout",
     "output_type": "stream",
     "text": [
      "[0, 1, 2, 3, 4, 5, 6]\n"
     ]
    }
   ],
   "source": [
    "unsorted = [2, 4, 6, 0, 1, 3, 5]\n",
    "print(bubblesort(unsorted))"
   ]
  },
  {
   "cell_type": "markdown",
   "metadata": {},
   "source": [
    "This gets rid of the need for a temporary variable."
   ]
  },
  {
   "cell_type": "markdown",
   "metadata": {},
   "source": [
    "## Exercise"
   ]
  },
  {
   "cell_type": "markdown",
   "metadata": {},
   "source": [
    "Here is a [VBA code](http://bettersolutions.com/vba/arrays/sorting-counting-sort.htm) for the [counting sort](https://en.wikipedia.org/wiki/Counting_sort) algorithm:\n",
    "\n",
    "```VB.NET\n",
    "Sub Countingsort(list) \n",
    "    Dim counts() As Long \n",
    "    Dim i As Long \n",
    "    Dim j As Long \n",
    "    Dim next_index As Long \n",
    "    Dim min, max \n",
    "    Dim min_value As Variant, max_value As Variant \n",
    "\n",
    "'   Allocate the counts array. VBA automatically\n",
    "'   initialises all entries to 0.\n",
    "\n",
    "    min_value = Minimum(list) \n",
    "    max_value = Maximum(list) \n",
    "    \n",
    "    min = LBound(list) \n",
    "    max = UBound(list) \n",
    "    \n",
    "    ReDim counts(min_value To max_value) \n",
    "    \n",
    "    ' Count the values.\n",
    "    For i = min To max \n",
    "        counts(list(i)) = counts(list(i)) + 1 \n",
    "    Next i \n",
    "\n",
    "    ' Write the items back into the list array.\n",
    "    next_index = min \n",
    "    For i = min_value To max_value \n",
    "        For j = 1 To counts(i) \n",
    "            list(next_index) = i \n",
    "            next_index = next_index + 1 \n",
    "        Next j \n",
    "    Next i \n",
    "End Sub \n",
    "\n",
    "Private Function Maximum(l) \n",
    "    Dim s1, s2 \n",
    "    Dim i \n",
    "    s1 = LBound(l) \n",
    "    s2 = UBound(l) \n",
    "    Maximum = l(s1) \n",
    "    For i = s1 To s2 \n",
    "        If l(i) > Maximum Then Maximum = l(i) \n",
    "    Next i \n",
    "End Function \n",
    "\n",
    "Private Function Minimum(l) \n",
    "    Dim s1, s2 \n",
    "    Dim i \n",
    "    s1 = LBound(l) \n",
    "    s2 = UBound(l) \n",
    "    Minimum = l(s1) \n",
    "    For i = s1 To s2 \n",
    "        If l(i) < Minimum Then Minimum = l(i) \n",
    "    Next i \n",
    "End Function \n",
    "```\n",
    "\n",
    "Translate this into Python. Note that the in-built Python `min` and `max` functions can be used on lists in place of the `Minimum` and `Maximum` functions above. To create a list of the correct size you can use\n",
    "\n",
    "```python\n",
    "    counts = list(range(min_value, max_value+1))\n",
    "```\n",
    "\n",
    "but this list will not contain zeros so must be reset."
   ]
  },
  {
   "cell_type": "code",
   "execution_count": 6,
   "metadata": {
    "collapsed": true
   },
   "outputs": [],
   "source": [
    "def countingsort(unsorted):\n",
    "    \"\"\"\n",
    "    Sorts an array using counting sort algorithm\n",
    "    \n",
    "    Paramters\n",
    "    ---------\n",
    "    \n",
    "    unsorted : list\n",
    "        The unsorted list\n",
    "    \n",
    "    Returns\n",
    "    \n",
    "    sorted : list\n",
    "        The sorted list (in place)\n",
    "    \"\"\"\n",
    "    # Allocate the counts array\n",
    "    min_value = min(unsorted)\n",
    "    max_value = max(unsorted)\n",
    "    # This creates a list of the right length, but the entries are not zero, so reset\n",
    "    counts = list(range(min_value, max_value+1))\n",
    "    for i in range(len(counts)):\n",
    "        counts[i] = 0\n",
    "    # Count the values\n",
    "    last = len(unsorted)\n",
    "    for i in range(last):\n",
    "        counts[unsorted[i]] += 1\n",
    "    # Write the items back into the list array\n",
    "    next_index = 0\n",
    "    for i in range(min_value, max_value+1):\n",
    "        for j in range(counts[i]):\n",
    "            unsorted[next_index] = i\n",
    "            next_index += 1\n",
    "    \n",
    "    return unsorted"
   ]
  },
  {
   "cell_type": "code",
   "execution_count": 7,
   "metadata": {},
   "outputs": [
    {
     "name": "stdout",
     "output_type": "stream",
     "text": [
      "[0, 1, 2, 3, 4, 5, 6]\n"
     ]
    }
   ],
   "source": [
    "unsorted = [2, 4, 6, 0, 1, 3, 5]\n",
    "print(countingsort(unsorted))"
   ]
  },
  {
   "cell_type": "code",
   "execution_count": null,
   "metadata": {
    "collapsed": true
   },
   "outputs": [],
   "source": []
  }
 ],
 "metadata": {
  "kernelspec": {
   "display_name": "Python 3",
   "language": "python",
   "name": "python3"
  },
  "language_info": {
   "codemirror_mode": {
    "name": "ipython",
    "version": 3
   },
   "file_extension": ".py",
   "mimetype": "text/x-python",
   "name": "python",
   "nbconvert_exporter": "python",
   "pygments_lexer": "ipython3",
   "version": "3.6.1"
  }
 },
 "nbformat": 4,
 "nbformat_minor": 2
}
