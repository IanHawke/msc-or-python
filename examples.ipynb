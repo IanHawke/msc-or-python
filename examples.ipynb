{
 "cells": [
  {
   "cell_type": "markdown",
   "metadata": {},
   "source": [
    "# Bubble sort"
   ]
  },
  {
   "cell_type": "markdown",
   "metadata": {},
   "source": [
    "In VBA the [bubble sort](https://en.wikipedia.org/wiki/Bubble_sort) algorithm can be [written as](http://bettersolutions.com/vba/arrays/sorting-bubble-sort.htm):\n",
    "\n",
    "```VB.NET\n",
    "Sub BubbleSort(list()) \n",
    "'   Sorts an array using bubble sort algorithm\n",
    "    Dim First As Integer, Last As Long \n",
    "    Dim i As Long, j As Long \n",
    "    Dim Temp As Long \n",
    "    \n",
    "    First = LBound(list) \n",
    "    Last = UBound(list) \n",
    "    For i = First To Last - 1 \n",
    "        For j = i + 1 To Last \n",
    "            If list(i) > list(j) Then \n",
    "                Temp = list(j) \n",
    "                list(j) = list(i) \n",
    "                list(i) = Temp \n",
    "            End If \n",
    "        Next j \n",
    "    Next i \n",
    "End Sub \n",
    "```\n",
    "\n",
    "We can do a direct translation of this into Python:"
   ]
  },
  {
   "cell_type": "code",
   "execution_count": 1,
   "metadata": {
    "collapsed": true
   },
   "outputs": [],
   "source": [
    "def bubblesort(unsorted):\n",
    "    \"\"\"\n",
    "    Sorts an array using bubble sort algorithm\n",
    "    \n",
    "    Paramters\n",
    "    ---------\n",
    "    \n",
    "    unsorted : list\n",
    "        The unsorted list\n",
    "    \n",
    "    Returns\n",
    "    \n",
    "    sorted : list\n",
    "        The sorted list (in place)\n",
    "    \"\"\"\n",
    "    \n",
    "    last = len(unsorted)\n",
    "    # All Python lists start from 0\n",
    "    for i in range(last):\n",
    "        for j in range(i+1, last):\n",
    "            if unsorted[i] > unsorted[j]:\n",
    "                temp = unsorted[j]\n",
    "                unsorted[j] = unsorted[i]\n",
    "                unsorted[i] = temp\n",
    "    return unsorted"
   ]
  },
  {
   "cell_type": "code",
   "execution_count": 2,
   "metadata": {},
   "outputs": [
    {
     "name": "stdout",
     "output_type": "stream",
     "text": [
      "[0, 1, 2, 3, 4, 5, 6]\n"
     ]
    }
   ],
   "source": [
    "unsorted = [2, 4, 6, 0, 1, 3, 5]\n",
    "print(bubblesort(unsorted))"
   ]
  },
  {
   "cell_type": "markdown",
   "metadata": {},
   "source": [
    "By comparing the two codes we can see the essential changes needed:\n",
    "\n",
    "* Python does not declare the type of the variables; the `DIM` statements are not needed.\n",
    "* There is nothing special about lists or arrays as variables when passed as arguments.\n",
    "* To define functions the keyword is `def` instead of `Sub`.\n",
    "* To define the start of a block (the body of a function, or a loop, or a conditional) a colon `:` is used.\n",
    "* To define the block itself, indentation is used. The block ends when the code indentation ends.\n",
    "* Comments are either enclosed in quotes `\"` as for the docstring, or using `#`.\n",
    "* The return value(s) from a function use the keyword `return`, not the name of the function.\n",
    "* Accessing arrays uses square brackets, not round.\n",
    "* The function `range` produces a range of integers, usually used to loop over.\n",
    "\n",
    "Note: there are in-built Python functions to sort lists which should be used in general:"
   ]
  },
  {
   "cell_type": "code",
   "execution_count": 3,
   "metadata": {},
   "outputs": [
    {
     "name": "stdout",
     "output_type": "stream",
     "text": [
      "[0, 1, 2, 3, 4, 5, 6]\n"
     ]
    }
   ],
   "source": [
    "unsorted = [2, 4, 6, 0, 1, 3, 5]\n",
    "print(sorted(unsorted))"
   ]
  },
  {
   "cell_type": "markdown",
   "metadata": {},
   "source": [
    "Note: there is a \"more Pythonic\" way of writing the bubble sort function, taking advantage of the feature that Python can assign to multiple things at once. Compare the internals of the loop:"
   ]
  },
  {
   "cell_type": "code",
   "execution_count": 4,
   "metadata": {
    "collapsed": true
   },
   "outputs": [],
   "source": [
    "def bubblesort(unsorted):\n",
    "    \"\"\"\n",
    "    Sorts an array using bubble sort algorithm\n",
    "    \n",
    "    Paramters\n",
    "    ---------\n",
    "    \n",
    "    unsorted : list\n",
    "        The unsorted list\n",
    "    \n",
    "    Returns\n",
    "    \n",
    "    sorted : list\n",
    "        The sorted list (in place)\n",
    "    \"\"\"\n",
    "    \n",
    "    last = len(unsorted)\n",
    "    # All Python lists start from 0\n",
    "    for i in range(last):\n",
    "        for j in range(i+1, last):\n",
    "            if unsorted[i] > unsorted[j]:\n",
    "                unsorted[j], unsorted[i] = unsorted[i], unsorted[j]\n",
    "    return unsorted"
   ]
  },
  {
   "cell_type": "code",
   "execution_count": 5,
   "metadata": {},
   "outputs": [
    {
     "name": "stdout",
     "output_type": "stream",
     "text": [
      "[0, 1, 2, 3, 4, 5, 6]\n"
     ]
    }
   ],
   "source": [
    "unsorted = [2, 4, 6, 0, 1, 3, 5]\n",
    "print(bubblesort(unsorted))"
   ]
  },
  {
   "cell_type": "markdown",
   "metadata": {},
   "source": [
    "This gets rid of the need for a temporary variable."
   ]
  },
  {
   "cell_type": "markdown",
   "metadata": {},
   "source": [
    "## Exercise"
   ]
  },
  {
   "cell_type": "markdown",
   "metadata": {},
   "source": [
    "Here is a [VBA code](http://bettersolutions.com/vba/arrays/sorting-counting-sort.htm) for the [counting sort](https://en.wikipedia.org/wiki/Counting_sort) algorithm:\n",
    "\n",
    "```VB.NET\n",
    "Sub Countingsort(list) \n",
    "    Dim counts() As Long \n",
    "    Dim i As Long \n",
    "    Dim j As Long \n",
    "    Dim next_index As Long \n",
    "    Dim min, max \n",
    "    Dim min_value As Variant, max_value As Variant \n",
    "\n",
    "'   Allocate the counts array. VBA automatically\n",
    "'   initialises all entries to 0.\n",
    "\n",
    "    min_value = Minimum(list) \n",
    "    max_value = Maximum(list) \n",
    "    \n",
    "    min = LBound(list) \n",
    "    max = UBound(list) \n",
    "    \n",
    "    ReDim counts(min_value To max_value) \n",
    "    \n",
    "    ' Count the values.\n",
    "    For i = min To max \n",
    "        counts(list(i)) = counts(list(i)) + 1 \n",
    "    Next i \n",
    "\n",
    "    ' Write the items back into the list array.\n",
    "    next_index = min \n",
    "    For i = min_value To max_value \n",
    "        For j = 1 To counts(i) \n",
    "            list(next_index) = i \n",
    "            next_index = next_index + 1 \n",
    "        Next j \n",
    "    Next i \n",
    "End Sub \n",
    "\n",
    "Private Function Maximum(l) \n",
    "    Dim s1, s2 \n",
    "    Dim i \n",
    "    s1 = LBound(l) \n",
    "    s2 = UBound(l) \n",
    "    Maximum = l(s1) \n",
    "    For i = s1 To s2 \n",
    "        If l(i) > Maximum Then Maximum = l(i) \n",
    "    Next i \n",
    "End Function \n",
    "\n",
    "Private Function Minimum(l) \n",
    "    Dim s1, s2 \n",
    "    Dim i \n",
    "    s1 = LBound(l) \n",
    "    s2 = UBound(l) \n",
    "    Minimum = l(s1) \n",
    "    For i = s1 To s2 \n",
    "        If l(i) < Minimum Then Minimum = l(i) \n",
    "    Next i \n",
    "End Function \n",
    "```\n",
    "\n",
    "Translate this into Python. Note that the in-built Python `min` and `max` functions can be used on lists in place of the `Minimum` and `Maximum` functions above. To create a list of the correct size you can use\n",
    "\n",
    "```python\n",
    "    counts = list(range(min_value, max_value+1))\n",
    "```\n",
    "\n",
    "but this list will not contain zeros so must be reset."
   ]
  },
  {
   "cell_type": "code",
   "execution_count": 6,
   "metadata": {
    "collapsed": true
   },
   "outputs": [],
   "source": [
    "def countingsort(unsorted):\n",
    "    \"\"\"\n",
    "    Sorts an array using counting sort algorithm\n",
    "    \n",
    "    Paramters\n",
    "    ---------\n",
    "    \n",
    "    unsorted : list\n",
    "        The unsorted list\n",
    "    \n",
    "    Returns\n",
    "    \n",
    "    sorted : list\n",
    "        The sorted list (in place)\n",
    "    \"\"\"\n",
    "    # Allocate the counts array\n",
    "    min_value = min(unsorted)\n",
    "    max_value = max(unsorted)\n",
    "    # This creates a list of the right length, but the entries are not zero, so reset\n",
    "    counts = list(range(min_value, max_value+1))\n",
    "    for i in range(len(counts)):\n",
    "        counts[i] = 0\n",
    "    # Count the values\n",
    "    last = len(unsorted)\n",
    "    for i in range(last):\n",
    "        counts[unsorted[i]] += 1\n",
    "    # Write the items back into the list array\n",
    "    next_index = 0\n",
    "    for i in range(min_value, max_value+1):\n",
    "        for j in range(counts[i]):\n",
    "            unsorted[next_index] = i\n",
    "            next_index += 1\n",
    "    \n",
    "    return unsorted"
   ]
  },
  {
   "cell_type": "code",
   "execution_count": 7,
   "metadata": {},
   "outputs": [
    {
     "name": "stdout",
     "output_type": "stream",
     "text": [
      "[0, 1, 2, 3, 4, 5, 6]\n"
     ]
    }
   ],
   "source": [
    "unsorted = [2, 4, 6, 0, 1, 3, 5]\n",
    "print(countingsort(unsorted))"
   ]
  },
  {
   "cell_type": "markdown",
   "metadata": {
    "collapsed": true
   },
   "source": [
    "# Simplex Method"
   ]
  },
  {
   "cell_type": "markdown",
   "metadata": {},
   "source": [
    "For the linear programming problem\n",
    "$$\n",
    "\\begin{align}\n",
    "  \\max x_1 + x_2 &= z \\\\\n",
    "  2 x_1 + x_2 & \\le 4 \\\\\n",
    "  x_1 + 2 x_2 & \\le 3\n",
    "\\end{align}\n",
    "$$\n",
    "where $x_1, x_2 \\ge 0$, one standard approach is the [simplex method](https://en.wikipedia.org/wiki/Simplex_algorithm).\n",
    "\n",
    "Introducing slack variables $s_1, s_2 \\ge 0$ the standard tableau form becomes\n",
    "$$\n",
    "\\begin{pmatrix}\n",
    "  1 & -1 & -1 & 0 & 0 \\\\\n",
    "  0 & 2 & 1 & 1 & 0 \\\\\n",
    "  0 & 1 & 2 & 0 & 1 \n",
    "\\end{pmatrix}\n",
    "\\begin{pmatrix}\n",
    "  z & x_1 & x_2 & s_1 & s_2\n",
    "\\end{pmatrix}^T = \\begin{pmatrix} 0 \\\\ 4 \\\\ 3 \\end{pmatrix}.\n",
    "$$\n",
    "\n",
    "The simplex method performs row operations to remove all negative numbers from the top row, at each stage choosing the smallest (in magnitude) pivot."
   ]
  },
  {
   "cell_type": "markdown",
   "metadata": {},
   "source": [
    "Assume the tableau is given in this standard form. We can use `numpy` to implement the problem."
   ]
  },
  {
   "cell_type": "code",
   "execution_count": 8,
   "metadata": {
    "collapsed": true
   },
   "outputs": [],
   "source": [
    "import numpy"
   ]
  },
  {
   "cell_type": "code",
   "execution_count": 9,
   "metadata": {},
   "outputs": [
    {
     "name": "stdout",
     "output_type": "stream",
     "text": [
      "[[ 1. -1. -1.  0.  0.  0.]\n",
      " [ 0.  2.  1.  1.  0.  4.]\n",
      " [ 0.  1.  2.  0.  1.  3.]]\n"
     ]
    }
   ],
   "source": [
    "tableau = numpy.array([ [1, -1, -1, 0, 0, 0], \n",
    "                        [0,  2,  1, 1, 0, 4],\n",
    "                        [0,  1,  2, 0, 1, 3] ], dtype=numpy.float64)\n",
    "print(tableau)"
   ]
  },
  {
   "cell_type": "markdown",
   "metadata": {},
   "source": [
    "To access an entry we use square brackets as with lists:"
   ]
  },
  {
   "cell_type": "code",
   "execution_count": 10,
   "metadata": {},
   "outputs": [
    {
     "name": "stdout",
     "output_type": "stream",
     "text": [
      "1.0\n",
      "1.0\n",
      "3.0\n"
     ]
    }
   ],
   "source": [
    "print(tableau[0, 0])\n",
    "print(tableau[1, 2])\n",
    "row = 2\n",
    "column = 5\n",
    "print(tableau[row, column])"
   ]
  },
  {
   "cell_type": "markdown",
   "metadata": {},
   "source": [
    "To access a complete row or column, we use slicing notation:"
   ]
  },
  {
   "cell_type": "code",
   "execution_count": 11,
   "metadata": {},
   "outputs": [
    {
     "name": "stdout",
     "output_type": "stream",
     "text": [
      "[ 0.  1.  2.  0.  1.  3.]\n",
      "[ 0.  4.  3.]\n"
     ]
    }
   ],
   "source": [
    "print(tableau[row, :])\n",
    "print(tableau[:, column])"
   ]
  },
  {
   "cell_type": "markdown",
   "metadata": {},
   "source": [
    "To apply the simplex method, we have to remove the negative entries in row `0`. These appear in columns `1` and `2`. For column `1` the pivot in row `1` has magnitude $|-1/2| = 1/2$ and the pivot in row `2` has magnitude $|-1/1|=1$. So we choose row `1`.\n",
    "\n",
    "To perform the row operation we want to eliminate all entries in column `1` except for the diagonal, which is set to $1$:"
   ]
  },
  {
   "cell_type": "code",
   "execution_count": 12,
   "metadata": {},
   "outputs": [
    {
     "name": "stdout",
     "output_type": "stream",
     "text": [
      "[[ 1.   0.  -0.5  0.5  0.   2. ]\n",
      " [ 0.   1.   0.5  0.5  0.   2. ]\n",
      " [ 0.   0.   1.5 -0.5  1.   1. ]]\n"
     ]
    }
   ],
   "source": [
    "column = 1\n",
    "pivot_row = 1\n",
    "# Rescale pivot row\n",
    "tableau[pivot_row, :] /= tableau[pivot_row, column]\n",
    "# Remove all entries in columns except the pivot\n",
    "pivot0 = tableau[0, column] / tableau[pivot_row, column]\n",
    "tableau[0, :] -= pivot0 * tableau[pivot_row, :]\n",
    "pivot2 = tableau[2, column] / tableau[pivot_row, column]\n",
    "tableau[2, :] -= pivot2 * tableau[pivot_row, :]\n",
    "\n",
    "print(tableau)"
   ]
  },
  {
   "cell_type": "markdown",
   "metadata": {},
   "source": [
    "Now we repeat this on column `2`, noting that we can only pivot on row `2`:"
   ]
  },
  {
   "cell_type": "code",
   "execution_count": 13,
   "metadata": {},
   "outputs": [
    {
     "name": "stdout",
     "output_type": "stream",
     "text": [
      "[[ 1.          0.          0.          0.33333333  0.33333333  2.33333333]\n",
      " [ 0.          1.          0.          0.66666667 -0.33333333  1.66666667]\n",
      " [ 0.          0.          1.         -0.33333333  0.66666667  0.66666667]]\n"
     ]
    }
   ],
   "source": [
    "column = 2\n",
    "pivot_row = 2\n",
    "# Rescale pivot row\n",
    "tableau[pivot_row, :] /= tableau[pivot_row, column]\n",
    "# Remove all entries in columns except the pivot\n",
    "pivot0 = tableau[0, column] / tableau[pivot_row, column]\n",
    "tableau[0, :] -= pivot0 * tableau[pivot_row, :]\n",
    "pivot1 = tableau[1, column] / tableau[pivot_row, column]\n",
    "tableau[1, :] -= pivot1 * tableau[pivot_row, :]\n",
    "\n",
    "print(tableau)"
   ]
  },
  {
   "cell_type": "markdown",
   "metadata": {},
   "source": [
    "We read off the solution: $z = 7/3$ when $x_1 = 5/3$ and $x_2 = 2/3$:"
   ]
  },
  {
   "cell_type": "code",
   "execution_count": 14,
   "metadata": {},
   "outputs": [
    {
     "name": "stdout",
     "output_type": "stream",
     "text": [
      "z = 2.33333333333\n",
      "x_1 = 1.66666666667\n",
      "x_2 = 0.666666666667\n"
     ]
    }
   ],
   "source": [
    "print(\"z =\", tableau[0, -1])\n",
    "print(\"x_1 =\", tableau[1, -1])\n",
    "print(\"x_2 =\", tableau[2, -1])"
   ]
  },
  {
   "cell_type": "markdown",
   "metadata": {},
   "source": [
    "Let's turn that into a function."
   ]
  },
  {
   "cell_type": "code",
   "execution_count": 15,
   "metadata": {
    "collapsed": true
   },
   "outputs": [],
   "source": [
    "def simplex(tableau):\n",
    "    \"\"\"\n",
    "    Assuming a standard form tableau, find the solution\n",
    "    \"\"\"\n",
    "    nvars = tableau.shape[1] - tableau.shape[0] - 1\n",
    "    for column in range(1, nvars+2):\n",
    "        if tableau[0, column] < 0:\n",
    "            pivot_row = numpy.argmin(numpy.abs(tableau[0, column] / tableau[1:, column])) + 1\n",
    "            # Rescale pivot row\n",
    "            tableau[pivot_row, :] /= tableau[pivot_row, column]\n",
    "            # Remove all entries in columns except the pivot\n",
    "            for row in range(0, pivot_row):\n",
    "                pivot = tableau[row, column] / tableau[pivot_row, column]\n",
    "                tableau[row, :] -= pivot * tableau[pivot_row, :]\n",
    "            for row in range(pivot_row+1, tableau.shape[0]):\n",
    "                pivot = tableau[row, column] / tableau[pivot_row, column]\n",
    "                tableau[row, :] -= pivot * tableau[pivot_row, :]\n",
    "    z = tableau[0, -1]\n",
    "    x = tableau[1:nvars+1, -1]\n",
    "    return z, x"
   ]
  },
  {
   "cell_type": "code",
   "execution_count": 16,
   "metadata": {},
   "outputs": [
    {
     "name": "stdout",
     "output_type": "stream",
     "text": [
      "z = 2.33333333333\n",
      "x = [ 1.66666667  0.66666667]\n"
     ]
    }
   ],
   "source": [
    "tableau = numpy.array([ [1, -1, -1, 0, 0, 0], \n",
    "                        [0,  2,  1, 1, 0, 4],\n",
    "                        [0,  1,  2, 0, 1, 3] ], dtype=numpy.float64)\n",
    "z, x = simplex(tableau)\n",
    "print(\"z =\", z)\n",
    "print(\"x =\", x)"
   ]
  },
  {
   "cell_type": "markdown",
   "metadata": {},
   "source": [
    "## Building the tableau"
   ]
  },
  {
   "cell_type": "markdown",
   "metadata": {},
   "source": [
    "Once the problem is phrased in the tableau form the short `simplex` function solves it without problem. However, for large problems, we don't want to type in the matrix by hand. Instead we want a way of keeping track of the objective function to maximize, and the constraints, and make the computer do all the work.\n",
    "\n",
    "To do that we'll introduce *classes*. In VBA a class is a special module, and you access its variables and methods using dot notation. For example, if `Student` is a class, which has a variable `Name`, and `s1` is a `Student` object, then `s1.Name` is the name associated with that particular instance of student.\n",
    "\n",
    "The same approach is used in Python:"
   ]
  },
  {
   "cell_type": "code",
   "execution_count": 17,
   "metadata": {
    "collapsed": true
   },
   "outputs": [],
   "source": [
    "class Student(object):\n",
    "    \n",
    "    def __init__(self, name):\n",
    "        self.name = name\n",
    "        \n",
    "    def print_name(self):\n",
    "        print(\"Hello\", self.name)"
   ]
  },
  {
   "cell_type": "code",
   "execution_count": 18,
   "metadata": {},
   "outputs": [
    {
     "name": "stdout",
     "output_type": "stream",
     "text": [
      "Ian Hawke\n",
      "Hello Jörg Fliege\n"
     ]
    }
   ],
   "source": [
    "s1 = Student(\"Ian Hawke\")\n",
    "print(s1.name)\n",
    "s2 = Student(\"Jörg Fliege\")\n",
    "s2.print_name()"
   ]
  },
  {
   "cell_type": "markdown",
   "metadata": {},
   "source": [
    "See how this compares to VBA.\n",
    "\n",
    "* The `class` keyword is used to start the definition of the class.\n",
    "* The name of the class (`Student`) is given. It follows similar rules and conventions to variables, but typically is capitalized.\n",
    "* The name in brackets (`object`) is what the class *inherits* from. Here we use the default (`object`).\n",
    "* The colon and indentation denotes the class definition, in the same way as we've seen for functions and loops.\n",
    "* Functions defined inside the class are *methods*. The first argument will always be an instance of the class, and by convention is called `self`. Methods are called using `<instance>.<method>`.\n",
    "* When an instance is created (eg, by `s1 = Student(...)`) the `__init__` method is called if it exists. We can use this to set up the instance."
   ]
  },
  {
   "cell_type": "markdown",
   "metadata": {},
   "source": [
    "There are a number of special methods that can be defined that work with Python operations. For example, suppose we printed the instances above:"
   ]
  },
  {
   "cell_type": "code",
   "execution_count": 19,
   "metadata": {},
   "outputs": [
    {
     "name": "stdout",
     "output_type": "stream",
     "text": [
      "<__main__.Student object at 0x10bc522e8>\n",
      "<__main__.Student object at 0x10bc52320>\n"
     ]
    }
   ],
   "source": [
    "print(s1)\n",
    "print(s2)"
   ]
  },
  {
   "cell_type": "markdown",
   "metadata": {},
   "source": [
    "This isn't very informative. However, we can define the *string representation* of our class using the `__repr__` method:"
   ]
  },
  {
   "cell_type": "code",
   "execution_count": 20,
   "metadata": {
    "collapsed": true
   },
   "outputs": [],
   "source": [
    "class Student(object):\n",
    "    \n",
    "    def __init__(self, name):\n",
    "        self.name = name\n",
    "        \n",
    "    def __repr__(self):\n",
    "        return self.name"
   ]
  },
  {
   "cell_type": "code",
   "execution_count": 21,
   "metadata": {},
   "outputs": [
    {
     "name": "stdout",
     "output_type": "stream",
     "text": [
      "Ian Hawke\n",
      "Jörg Fliege\n"
     ]
    }
   ],
   "source": [
    "s1 = Student(\"Ian Hawke\")\n",
    "s2 = Student(\"Jörg Fliege\")\n",
    "print(s1)\n",
    "print(s2)"
   ]
  },
  {
   "cell_type": "markdown",
   "metadata": {},
   "source": [
    "We can also define what it means to add two instances of our class:"
   ]
  },
  {
   "cell_type": "code",
   "execution_count": 22,
   "metadata": {
    "collapsed": true
   },
   "outputs": [],
   "source": [
    "class Student(object):\n",
    "    \n",
    "    def __init__(self, name):\n",
    "        self.name = name\n",
    "        \n",
    "    def __repr__(self):\n",
    "        return self.name\n",
    "    \n",
    "    def __add__(self, other):\n",
    "        return Student(self.name + \" and \" + other.name)"
   ]
  },
  {
   "cell_type": "code",
   "execution_count": 23,
   "metadata": {},
   "outputs": [
    {
     "name": "stdout",
     "output_type": "stream",
     "text": [
      "Ian Hawke and Jörg Fliege\n"
     ]
    }
   ],
   "source": [
    "s1 = Student(\"Ian Hawke\")\n",
    "s2 = Student(\"Jörg Fliege\")\n",
    "print(s1 + s2)"
   ]
  },
  {
   "cell_type": "markdown",
   "metadata": {},
   "source": [
    "Going back to the simplex method, we want to define a class that contains the objective function and the constraints, a method to solve the problem, and a representation of the problem and solution."
   ]
  },
  {
   "cell_type": "code",
   "execution_count": 24,
   "metadata": {
    "collapsed": true
   },
   "outputs": [],
   "source": [
    "class Constraint(object):\n",
    "    def __init__(self, coefficients, value):\n",
    "        self.coefficients = numpy.array(coefficients)\n",
    "        self.value = value\n",
    "        \n",
    "    def __repr__(self):\n",
    "        string = \"\"\n",
    "        for i in range(len(self.coefficients)-1):\n",
    "            string += str(self.coefficients[i]) + \" x_{}\".format(i+1) + \" + \"\n",
    "        string += str(self.coefficients[-1]) + \" x_{}\".format(len(self.coefficients))\n",
    "        string += \" \\le \"\n",
    "        string += str(self.value)\n",
    "        return string"
   ]
  },
  {
   "cell_type": "code",
   "execution_count": 25,
   "metadata": {},
   "outputs": [
    {
     "name": "stdout",
     "output_type": "stream",
     "text": [
      "2 x_1 + 1 x_2 \\le 4\n",
      "1 x_1 + 2 x_2 \\le 3\n"
     ]
    }
   ],
   "source": [
    "c1 = Constraint([2, 1], 4)\n",
    "c2 = Constraint([1, 2], 3)\n",
    "print(c1)\n",
    "print(c2)"
   ]
  },
  {
   "cell_type": "code",
   "execution_count": 26,
   "metadata": {
    "collapsed": true
   },
   "outputs": [],
   "source": [
    "class Linearprog(object):\n",
    "    \n",
    "    def __init__(self, objective, constraints):\n",
    "        self.objective = numpy.array(objective)\n",
    "        self.nvars = len(self.objective)\n",
    "        self.constraints = constraints\n",
    "        self.nconstraints = len(self.constraints)\n",
    "        self.tableau = numpy.zeros((1+self.nconstraints, 2+self.nvars+self.nconstraints))\n",
    "        self.tableau[0, 0] = 1.0\n",
    "        self.tableau[0, 1:1+self.nvars] = -self.objective\n",
    "        for nc, c in enumerate(self.constraints):\n",
    "            self.tableau[1+nc, 1:1+self.nvars] = c.coefficients\n",
    "            self.tableau[1+nc, 1+self.nvars+nc] = 1.0\n",
    "            self.tableau[1+nc, -1] = c.value\n",
    "        self.z, self.x = self.simplex()\n",
    "        \n",
    "    def simplex(self):\n",
    "        for column in range(1, self.nvars+2):\n",
    "            if self.tableau[0, column] < 0:\n",
    "                pivot_row = numpy.argmin(numpy.abs(self.tableau[0, column] / self.tableau[1:, column])) + 1\n",
    "                # Rescale pivot row\n",
    "                self.tableau[pivot_row, :] /= self.tableau[pivot_row, column]\n",
    "                # Remove all entries in columns except the pivot\n",
    "                for row in range(0, pivot_row):\n",
    "                    pivot = self.tableau[row, column] / self.tableau[pivot_row, column]\n",
    "                    self.tableau[row, :] -= pivot * self.tableau[pivot_row, :]\n",
    "                for row in range(pivot_row+1, self.tableau.shape[0]):\n",
    "                    pivot = self.tableau[row, column] / self.tableau[pivot_row, column]\n",
    "                    self.tableau[row, :] -= pivot * self.tableau[pivot_row, :]\n",
    "        z = self.tableau[0, -1]\n",
    "        x = self.tableau[1:self.nvars+1, -1]\n",
    "        return z, x\n",
    "\n",
    "    def __repr__(self):\n",
    "        string = \"max \"\n",
    "        for i in range(len(self.objective)-1):\n",
    "            string += str(self.objective[i]) + \" x_{}\".format(i+1) + \" + \"\n",
    "        string += str(self.objective[-1]) + \" x_{}\".format(len(self.objective))\n",
    "        string += \"\\n\\nwith constraints\\n\"\n",
    "        for c in self.constraints:\n",
    "            string += \"\\n\"\n",
    "            string += c.__repr__()\n",
    "        string += \"\\n\\n\"\n",
    "        string += \"Solution has objective function maximum of \" + str(self.z)\n",
    "        string += \"\\n\\n\"\n",
    "        string += \"at location x = \" + str(self.x)\n",
    "        return string"
   ]
  },
  {
   "cell_type": "code",
   "execution_count": 27,
   "metadata": {},
   "outputs": [
    {
     "name": "stdout",
     "output_type": "stream",
     "text": [
      "max 1 x_1 + 1 x_2\n",
      "\n",
      "with constraints\n",
      "\n",
      "2 x_1 + 1 x_2 \\le 4\n",
      "1 x_1 + 2 x_2 \\le 3\n",
      "\n",
      "Solution has objective function maximum of 2.33333333333\n",
      "\n",
      "at location x = [ 1.66666667  0.66666667]\n"
     ]
    }
   ],
   "source": [
    "problem = Linearprog([1, 1], [c1, c2])\n",
    "print(problem)"
   ]
  },
  {
   "cell_type": "markdown",
   "metadata": {
    "collapsed": true
   },
   "source": [
    "# Monte Carlo"
   ]
  },
  {
   "cell_type": "markdown",
   "metadata": {},
   "source": [
    "Monte Carlo algorithms take a model where the output depends on unknown input parameters and explore the possible results by providing suitable random data as input."
   ]
  },
  {
   "cell_type": "markdown",
   "metadata": {},
   "source": [
    "As an example problem we'll take the [Unilink bus](http://www.unilinkbus.co.uk) service U1C from the Airport into the centre and ask: at busy times, how many people will not be able to get on the bus, and at what stops?"
   ]
  },
  {
   "cell_type": "markdown",
   "metadata": {},
   "source": [
    "We will only consider the main stops:"
   ]
  },
  {
   "cell_type": "code",
   "execution_count": 28,
   "metadata": {
    "collapsed": true
   },
   "outputs": [],
   "source": [
    "bus_stops = [\"Airport Parkway Station\",\n",
    "             \"Wessex Lane\",\n",
    "             \"Highfield Interchange\",\n",
    "             \"Portswood Broadway\",\n",
    "             \"The Avenue Archers Road\",\n",
    "             \"Civic Centre\",\n",
    "             \"Central Station\",\n",
    "             \"West Quay\",\n",
    "             \"Town Quay\",\n",
    "             \"NOCS\"]"
   ]
  },
  {
   "cell_type": "markdown",
   "metadata": {},
   "source": [
    "We will assume that the bus capacity is $85$ people, that $200$ people want to travel, that they are distributed at the $10$ stops following a discrete random distribution, and each wants to travel a number of stops that also follows a discrete random distribution (distributed between $1$ and the maximum number of stops they could travel)."
   ]
  },
  {
   "cell_type": "markdown",
   "metadata": {},
   "source": [
    "There are smarter ways of doing it than this, I'm sure:"
   ]
  },
  {
   "cell_type": "code",
   "execution_count": 29,
   "metadata": {
    "collapsed": true
   },
   "outputs": [],
   "source": [
    "import numpy"
   ]
  },
  {
   "cell_type": "code",
   "execution_count": 30,
   "metadata": {},
   "outputs": [],
   "source": [
    "capacity = 85\n",
    "n_people = 250\n",
    "total_stops = len(bus_stops)\n",
    "initial_stops = numpy.random.randint(0, total_stops-1, n_people)\n",
    "n_stops = numpy.zeros_like(initial_stops)\n",
    "n_onboard = numpy.zeros((total_stops,), dtype=numpy.int)\n",
    "for i in range(total_stops):\n",
    "    if i == total_stops - 1: # Can only take one stop\n",
    "        n_stops[initial_stops == i] = 1\n",
    "    else:\n",
    "        n_people_at_stop = len(initial_stops[initial_stops == i])\n",
    "        n_stops[initial_stops == i] = numpy.random.randint(1, total_stops-i, n_people_at_stop)\n",
    "n_left_behind = 0\n",
    "for i in range(total_stops):\n",
    "    n_people_at_stop = len(initial_stops[initial_stops == i])\n",
    "    n_people_getting_on = max([0, min([n_people_at_stop, capacity - n_onboard[i]])])\n",
    "    n_left_behind += max([n_people_at_stop - n_people_getting_on, 0])\n",
    "    for fill_stops in n_stops[initial_stops == i][:n_people_getting_on]:\n",
    "        n_onboard[i:i+fill_stops] += 1"
   ]
  },
  {
   "cell_type": "code",
   "execution_count": 32,
   "metadata": {},
   "outputs": [
    {
     "name": "stdout",
     "output_type": "stream",
     "text": [
      "35\n"
     ]
    }
   ],
   "source": [
    "print(n_left_behind)"
   ]
  },
  {
   "cell_type": "code",
   "execution_count": 33,
   "metadata": {},
   "outputs": [
    {
     "name": "stdout",
     "output_type": "stream",
     "text": [
      "[35 56 76 85 85 85 85 85 67  0]\n"
     ]
    }
   ],
   "source": [
    "print(n_onboard)"
   ]
  }
 ],
 "metadata": {
  "kernelspec": {
   "display_name": "Python 3",
   "language": "python",
   "name": "python3"
  },
  "language_info": {
   "codemirror_mode": {
    "name": "ipython",
    "version": 3
   },
   "file_extension": ".py",
   "mimetype": "text/x-python",
   "name": "python",
   "nbconvert_exporter": "python",
   "pygments_lexer": "ipython3",
   "version": "3.6.1"
  }
 },
 "nbformat": 4,
 "nbformat_minor": 2
}
